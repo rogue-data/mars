{
  "nbformat": 4,
  "nbformat_minor": 0,
  "metadata": {
    "colab": {
      "name": "pre2_3.ipynb",
      "provenance": [],
      "collapsed_sections": []
    },
    "kernelspec": {
      "name": "python3",
      "display_name": "Python 3"
    }
  },
  "cells": [
    {
      "cell_type": "code",
      "metadata": {
        "id": "Iwh3fjd2VkkZ"
      },
      "source": [
        "import pandas as pd"
      ],
      "execution_count": null,
      "outputs": []
    },
    {
      "cell_type": "code",
      "metadata": {
        "id": "Q8cUJlFiXFeS"
      },
      "source": [
        "df1=pd.read_csv(r\"/content/songs[27000-30000).csv\")\n",
        "df2=pd.read_csv(r\"/content/song[30000-33000].csv\")\n",
        "df3=pd.read_csv(r\"/content/song[33000-34808).csv\")"
      ],
      "execution_count": null,
      "outputs": []
    },
    {
      "cell_type": "code",
      "metadata": {
        "id": "7Jn9N2GVX6__"
      },
      "source": [
        "df1.head()"
      ],
      "execution_count": null,
      "outputs": []
    },
    {
      "cell_type": "code",
      "metadata": {
        "id": "9s64RbJ5Xnss",
        "outputId": "b53913ce-c7f4-4abb-d7b0-bfa72681cd0e",
        "colab": {
          "base_uri": "https://localhost:8080/"
        }
      },
      "source": [
        "df1.columns[8:]"
      ],
      "execution_count": null,
      "outputs": [
        {
          "output_type": "execute_result",
          "data": {
            "text/plain": [
              "Index(['title', 'MFCCs', 'views', 'rating'], dtype='object')"
            ]
          },
          "metadata": {
            "tags": []
          },
          "execution_count": 16
        }
      ]
    },
    {
      "cell_type": "code",
      "metadata": {
        "id": "wM6mbWpVXuWX"
      },
      "source": [
        "# Removing the unwanted columns in df1 (The unwanted columns were added during the collection of data)\n",
        "df1=df1.drop(columns=df1.columns[0:8])\n",
        "df1.head()"
      ],
      "execution_count": null,
      "outputs": []
    },
    {
      "cell_type": "code",
      "metadata": {
        "id": "RcXpG2eMYHmM"
      },
      "source": [
        "df2.head()"
      ],
      "execution_count": null,
      "outputs": []
    },
    {
      "cell_type": "code",
      "metadata": {
        "id": "L7Y-SMrvYQW0"
      },
      "source": [
        "# Removing the unwanted columns in df2 (The unwanted columns were added during the collection of data)\n",
        "df2=df2.drop(columns=df2.columns[0:5])\n",
        "df2.head()"
      ],
      "execution_count": null,
      "outputs": []
    },
    {
      "cell_type": "code",
      "metadata": {
        "id": "gVfWx96OYeW_"
      },
      "source": [
        "df3.head()"
      ],
      "execution_count": null,
      "outputs": []
    },
    {
      "cell_type": "code",
      "metadata": {
        "id": "mlpJZ4vRYiYf"
      },
      "source": [
        "# Removing the unwanted columns in df3 (The unwanted columns were added during the collection of data)\n",
        "df3=df3.drop(columns=df3.columns[0:3])\n",
        "df3.head()"
      ],
      "execution_count": null,
      "outputs": []
    },
    {
      "cell_type": "code",
      "metadata": {
        "id": "EDrJRmaUYqWU"
      },
      "source": [
        "# Combining the three datasets into a single dataset and then resetting the index because different dataframes will contain different indeces.\n",
        "df_combined=pd.concat([df1,df2,df3]).reset_index()"
      ],
      "execution_count": null,
      "outputs": []
    },
    {
      "cell_type": "code",
      "metadata": {
        "id": "WL06dI3mY88t"
      },
      "source": [
        "# Dropping the index column\n",
        "df_combined.drop(columns='index',inplace=True)\n",
        "df_combined"
      ],
      "execution_count": null,
      "outputs": []
    },
    {
      "cell_type": "code",
      "metadata": {
        "id": "uPs1tB2RZO9_"
      },
      "source": [
        "# Saving the Combined dataset file.\n",
        "df_combined.to_csv(\"data_init.csv\")"
      ],
      "execution_count": null,
      "outputs": []
    },
    {
      "cell_type": "code",
      "metadata": {
        "id": "yM2o-JVtalfh",
        "outputId": "ce11fe53-9915-4e13-ddd1-58ac626b5317",
        "colab": {
          "base_uri": "https://localhost:8080/"
        }
      },
      "source": [
        "# Verifying the shape of the combined dataset.\n",
        "df1.shape,df2.shape,df3.shape,df_combined.shape"
      ],
      "execution_count": null,
      "outputs": [
        {
          "output_type": "execute_result",
          "data": {
            "text/plain": [
              "((2618, 4), (2533, 4), (1555, 4), (6706, 5))"
            ]
          },
          "metadata": {
            "tags": []
          },
          "execution_count": 24
        }
      ]
    },
    {
      "cell_type": "code",
      "metadata": {
        "id": "cQA1xDT7dbcM"
      },
      "source": [
        "# Dropping duplicate columns, if any.\n",
        "df_combined.drop_duplicates(inplace=True)"
      ],
      "execution_count": null,
      "outputs": []
    },
    {
      "cell_type": "code",
      "metadata": {
        "id": "yi_cIG__d-59",
        "outputId": "6da6c119-4e18-4398-e86a-080ee0415361",
        "colab": {
          "base_uri": "https://localhost:8080/",
          "height": 399
        }
      },
      "source": [
        "df_combined"
      ],
      "execution_count": null,
      "outputs": [
        {
          "output_type": "execute_result",
          "data": {
            "text/html": [
              "<div>\n",
              "<style scoped>\n",
              "    .dataframe tbody tr th:only-of-type {\n",
              "        vertical-align: middle;\n",
              "    }\n",
              "\n",
              "    .dataframe tbody tr th {\n",
              "        vertical-align: top;\n",
              "    }\n",
              "\n",
              "    .dataframe thead th {\n",
              "        text-align: right;\n",
              "    }\n",
              "</style>\n",
              "<table border=\"1\" class=\"dataframe\">\n",
              "  <thead>\n",
              "    <tr style=\"text-align: right;\">\n",
              "      <th></th>\n",
              "      <th>title</th>\n",
              "      <th>MFCCs</th>\n",
              "      <th>views</th>\n",
              "      <th>rating</th>\n",
              "    </tr>\n",
              "  </thead>\n",
              "  <tbody>\n",
              "    <tr>\n",
              "      <th>0</th>\n",
              "      <td>Oak Or Rock</td>\n",
              "      <td>[[-515.19211099 -515.19211099 -515.19211099 .....</td>\n",
              "      <td>112</td>\n",
              "      <td>4.200000</td>\n",
              "    </tr>\n",
              "    <tr>\n",
              "      <th>1</th>\n",
              "      <td>Earth Diver</td>\n",
              "      <td>[[-5.00838465e+02 -5.00838465e+02 -5.00838465e...</td>\n",
              "      <td>8084</td>\n",
              "      <td>4.947644</td>\n",
              "    </tr>\n",
              "    <tr>\n",
              "      <th>2</th>\n",
              "      <td>You Must Welcome The Stranger</td>\n",
              "      <td>[[-528.48484196 -528.48484196 -528.48484196 .....</td>\n",
              "      <td>951</td>\n",
              "      <td>5.000000</td>\n",
              "    </tr>\n",
              "    <tr>\n",
              "      <th>3</th>\n",
              "      <td>The Melancholic Giant</td>\n",
              "      <td>[[-3.51237335e+02 -1.93061550e+02 -1.59656749e...</td>\n",
              "      <td>94</td>\n",
              "      <td>4.428571</td>\n",
              "    </tr>\n",
              "    <tr>\n",
              "      <th>4</th>\n",
              "      <td>The Boiling Fjords Orchestra</td>\n",
              "      <td>[[-3.79806506e+02 -2.54255144e+02 -2.31626121e...</td>\n",
              "      <td>1816</td>\n",
              "      <td>5.000000</td>\n",
              "    </tr>\n",
              "    <tr>\n",
              "      <th>...</th>\n",
              "      <td>...</td>\n",
              "      <td>...</td>\n",
              "      <td>...</td>\n",
              "      <td>...</td>\n",
              "    </tr>\n",
              "    <tr>\n",
              "      <th>6701</th>\n",
              "      <td>Umm Hmm</td>\n",
              "      <td>[[-4.78730005e+02 -4.04759901e+02 -2.36729218e...</td>\n",
              "      <td>163898</td>\n",
              "      <td>4.693207</td>\n",
              "    </tr>\n",
              "    <tr>\n",
              "      <th>6702</th>\n",
              "      <td>Back In The Day</td>\n",
              "      <td>[[-509.17525437 -509.17525437 -509.17525437 .....</td>\n",
              "      <td>9505090</td>\n",
              "      <td>4.868617</td>\n",
              "    </tr>\n",
              "    <tr>\n",
              "      <th>6703</th>\n",
              "      <td>Danger</td>\n",
              "      <td>[[-484.49889409 -471.22982015 -458.00348772 .....</td>\n",
              "      <td>1210302</td>\n",
              "      <td>4.815370</td>\n",
              "    </tr>\n",
              "    <tr>\n",
              "      <th>6704</th>\n",
              "      <td>Hollywood</td>\n",
              "      <td>[[-486.03774772 -486.03774772 -486.03774772 .....</td>\n",
              "      <td>262768</td>\n",
              "      <td>4.903123</td>\n",
              "    </tr>\n",
              "    <tr>\n",
              "      <th>6705</th>\n",
              "      <td>The Grind</td>\n",
              "      <td>[[-4.76211214e+02 -3.52944619e+02 -2.02875704e...</td>\n",
              "      <td>57844</td>\n",
              "      <td>4.489908</td>\n",
              "    </tr>\n",
              "  </tbody>\n",
              "</table>\n",
              "<p>6681 rows × 4 columns</p>\n",
              "</div>"
            ],
            "text/plain": [
              "                              title  ...    rating\n",
              "0                       Oak Or Rock  ...  4.200000\n",
              "1                       Earth Diver  ...  4.947644\n",
              "2     You Must Welcome The Stranger  ...  5.000000\n",
              "3             The Melancholic Giant  ...  4.428571\n",
              "4      The Boiling Fjords Orchestra  ...  5.000000\n",
              "...                             ...  ...       ...\n",
              "6701                        Umm Hmm  ...  4.693207\n",
              "6702                Back In The Day  ...  4.868617\n",
              "6703                         Danger  ...  4.815370\n",
              "6704                      Hollywood  ...  4.903123\n",
              "6705                      The Grind  ...  4.489908\n",
              "\n",
              "[6681 rows x 4 columns]"
            ]
          },
          "metadata": {
            "tags": []
          },
          "execution_count": 31
        }
      ]
    },
    {
      "cell_type": "code",
      "metadata": {
        "id": "W-0w199MZWVM"
      },
      "source": [
        "# Loading the original dataset which contains the metadata of all the songs (Note that the combined dataset has the MFCCs, views and other information. Whereas this dataset contains information like genre, \n",
        "# timbre, year, loudness etc.)\n",
        "df_orig=pd.read_csv(r\"/content/fd1.csv\")"
      ],
      "execution_count": null,
      "outputs": []
    },
    {
      "cell_type": "code",
      "metadata": {
        "id": "5paev0KlaJlo",
        "outputId": "c45d4356-4663-4b17-97b6-276c8f32e56c",
        "colab": {
          "base_uri": "https://localhost:8080/",
          "height": 672
        }
      },
      "source": [
        "# Slicing the dataset from the range where the combined dataset starts (i.e., The combined dataset contains songs from index 27000 to 34808).\n",
        "df_orig=df_orig.iloc[27000:34808,:]\n",
        "df_orig"
      ],
      "execution_count": null,
      "outputs": [
        {
          "output_type": "execute_result",
          "data": {
            "text/html": [
              "<div>\n",
              "<style scoped>\n",
              "    .dataframe tbody tr th:only-of-type {\n",
              "        vertical-align: middle;\n",
              "    }\n",
              "\n",
              "    .dataframe tbody tr th {\n",
              "        vertical-align: top;\n",
              "    }\n",
              "\n",
              "    .dataframe thead th {\n",
              "        text-align: right;\n",
              "    }\n",
              "</style>\n",
              "<table border=\"1\" class=\"dataframe\">\n",
              "  <thead>\n",
              "    <tr style=\"text-align: right;\">\n",
              "      <th></th>\n",
              "      <th>Unnamed: 0</th>\n",
              "      <th>genre</th>\n",
              "      <th>track_id</th>\n",
              "      <th>artist_name</th>\n",
              "      <th>title</th>\n",
              "      <th>loudness</th>\n",
              "      <th>tempo</th>\n",
              "      <th>time_signature</th>\n",
              "      <th>key</th>\n",
              "      <th>mode</th>\n",
              "      <th>duration</th>\n",
              "      <th>avg_timbre1</th>\n",
              "      <th>avg_timbre2</th>\n",
              "      <th>avg_timbre3</th>\n",
              "      <th>avg_timbre4</th>\n",
              "      <th>avg_timbre5</th>\n",
              "      <th>avg_timbre6</th>\n",
              "      <th>avg_timbre7</th>\n",
              "      <th>avg_timbre8</th>\n",
              "      <th>avg_timbre9</th>\n",
              "      <th>avg_timbre10</th>\n",
              "      <th>avg_timbre11</th>\n",
              "      <th>avg_timbre12</th>\n",
              "      <th>var_timbre1</th>\n",
              "      <th>var_timbre2</th>\n",
              "      <th>var_timbre3</th>\n",
              "      <th>var_timbre4</th>\n",
              "      <th>var_timbre5</th>\n",
              "      <th>var_timbre6</th>\n",
              "      <th>var_timbre7</th>\n",
              "      <th>var_timbre8</th>\n",
              "      <th>var_timbre9</th>\n",
              "      <th>var_timbre10</th>\n",
              "      <th>var_timbre11</th>\n",
              "      <th>var_timbre12</th>\n",
              "      <th>song_id</th>\n",
              "      <th>release</th>\n",
              "      <th>year</th>\n",
              "    </tr>\n",
              "  </thead>\n",
              "  <tbody>\n",
              "    <tr>\n",
              "      <th>27000</th>\n",
              "      <td>27001</td>\n",
              "      <td>dance and electronica</td>\n",
              "      <td>TRQEPJK12903CA34D4</td>\n",
              "      <td>Phonophani</td>\n",
              "      <td>Oak Or Rock</td>\n",
              "      <td>-15.676</td>\n",
              "      <td>44.478</td>\n",
              "      <td>4</td>\n",
              "      <td>3</td>\n",
              "      <td>1</td>\n",
              "      <td>276.97587</td>\n",
              "      <td>35.164371</td>\n",
              "      <td>7.877394</td>\n",
              "      <td>91.085629</td>\n",
              "      <td>4.957848</td>\n",
              "      <td>86.325847</td>\n",
              "      <td>-23.720574</td>\n",
              "      <td>-40.921693</td>\n",
              "      <td>-16.734750</td>\n",
              "      <td>63.578547</td>\n",
              "      <td>4.743140</td>\n",
              "      <td>8.403203</td>\n",
              "      <td>19.991234</td>\n",
              "      <td>64.518580</td>\n",
              "      <td>3967.182797</td>\n",
              "      <td>1702.567833</td>\n",
              "      <td>748.728739</td>\n",
              "      <td>3567.436849</td>\n",
              "      <td>215.329314</td>\n",
              "      <td>1122.442118</td>\n",
              "      <td>436.225105</td>\n",
              "      <td>1192.753362</td>\n",
              "      <td>220.639279</td>\n",
              "      <td>122.167371</td>\n",
              "      <td>1094.862075</td>\n",
              "      <td>SOFOBXX12AB0188075</td>\n",
              "      <td>Oak Or Rock</td>\n",
              "      <td>2004</td>\n",
              "    </tr>\n",
              "    <tr>\n",
              "      <th>27001</th>\n",
              "      <td>27002</td>\n",
              "      <td>dance and electronica</td>\n",
              "      <td>TRZLBMY12903CA34AB</td>\n",
              "      <td>Phonophani</td>\n",
              "      <td>Earth Diver</td>\n",
              "      <td>-12.505</td>\n",
              "      <td>117.889</td>\n",
              "      <td>3</td>\n",
              "      <td>5</td>\n",
              "      <td>0</td>\n",
              "      <td>331.12771</td>\n",
              "      <td>43.136741</td>\n",
              "      <td>59.012493</td>\n",
              "      <td>31.560114</td>\n",
              "      <td>-4.464695</td>\n",
              "      <td>50.709989</td>\n",
              "      <td>-27.528652</td>\n",
              "      <td>-18.702080</td>\n",
              "      <td>-3.501110</td>\n",
              "      <td>-6.382054</td>\n",
              "      <td>1.834427</td>\n",
              "      <td>3.132496</td>\n",
              "      <td>-15.833680</td>\n",
              "      <td>26.728151</td>\n",
              "      <td>3324.866785</td>\n",
              "      <td>4138.300377</td>\n",
              "      <td>1192.005451</td>\n",
              "      <td>1122.053554</td>\n",
              "      <td>370.830229</td>\n",
              "      <td>786.762878</td>\n",
              "      <td>239.222350</td>\n",
              "      <td>1017.654521</td>\n",
              "      <td>280.937700</td>\n",
              "      <td>185.380257</td>\n",
              "      <td>1039.398354</td>\n",
              "      <td>SOESSHQ12AB0182CA5</td>\n",
              "      <td>Oak Or Rock</td>\n",
              "      <td>2004</td>\n",
              "    </tr>\n",
              "    <tr>\n",
              "      <th>27002</th>\n",
              "      <td>27003</td>\n",
              "      <td>dance and electronica</td>\n",
              "      <td>TRIODFQ12903CA34D1</td>\n",
              "      <td>Phonophani</td>\n",
              "      <td>You Must Welcome The Stranger</td>\n",
              "      <td>-18.229</td>\n",
              "      <td>165.955</td>\n",
              "      <td>4</td>\n",
              "      <td>4</td>\n",
              "      <td>1</td>\n",
              "      <td>219.66322</td>\n",
              "      <td>33.371880</td>\n",
              "      <td>-120.463588</td>\n",
              "      <td>-8.322311</td>\n",
              "      <td>-31.024994</td>\n",
              "      <td>22.727474</td>\n",
              "      <td>-28.730347</td>\n",
              "      <td>-18.224882</td>\n",
              "      <td>2.497024</td>\n",
              "      <td>-3.592831</td>\n",
              "      <td>-0.987697</td>\n",
              "      <td>2.099203</td>\n",
              "      <td>10.084396</td>\n",
              "      <td>49.554208</td>\n",
              "      <td>5026.299430</td>\n",
              "      <td>761.364944</td>\n",
              "      <td>707.720472</td>\n",
              "      <td>866.148336</td>\n",
              "      <td>254.044431</td>\n",
              "      <td>714.546434</td>\n",
              "      <td>309.265741</td>\n",
              "      <td>605.130573</td>\n",
              "      <td>181.022408</td>\n",
              "      <td>123.812986</td>\n",
              "      <td>368.406464</td>\n",
              "      <td>SOZPQMY12AB018806E</td>\n",
              "      <td>Oak Or Rock</td>\n",
              "      <td>2004</td>\n",
              "    </tr>\n",
              "    <tr>\n",
              "      <th>27003</th>\n",
              "      <td>27004</td>\n",
              "      <td>dance and electronica</td>\n",
              "      <td>TRDIFGR12903CA34CA</td>\n",
              "      <td>Phonophani</td>\n",
              "      <td>The Melancholic Giant</td>\n",
              "      <td>-15.852</td>\n",
              "      <td>92.258</td>\n",
              "      <td>5</td>\n",
              "      <td>0</td>\n",
              "      <td>1</td>\n",
              "      <td>283.48036</td>\n",
              "      <td>37.468627</td>\n",
              "      <td>35.542606</td>\n",
              "      <td>36.094896</td>\n",
              "      <td>-8.299680</td>\n",
              "      <td>35.609290</td>\n",
              "      <td>-22.763634</td>\n",
              "      <td>-15.470687</td>\n",
              "      <td>-4.115242</td>\n",
              "      <td>-1.155200</td>\n",
              "      <td>-0.402422</td>\n",
              "      <td>-0.277028</td>\n",
              "      <td>7.184707</td>\n",
              "      <td>49.120752</td>\n",
              "      <td>8394.337579</td>\n",
              "      <td>2577.108008</td>\n",
              "      <td>883.336343</td>\n",
              "      <td>1410.703439</td>\n",
              "      <td>301.474171</td>\n",
              "      <td>1523.470327</td>\n",
              "      <td>629.441736</td>\n",
              "      <td>600.496882</td>\n",
              "      <td>266.622996</td>\n",
              "      <td>282.135391</td>\n",
              "      <td>573.946013</td>\n",
              "      <td>SOILDKV12AB0182CF9</td>\n",
              "      <td>Oak Or Rock</td>\n",
              "      <td>2004</td>\n",
              "    </tr>\n",
              "    <tr>\n",
              "      <th>27004</th>\n",
              "      <td>27005</td>\n",
              "      <td>dance and electronica</td>\n",
              "      <td>TRXMTMG12903CA34B6</td>\n",
              "      <td>Phonophani</td>\n",
              "      <td>The Boiling Fjords Orchestra</td>\n",
              "      <td>-13.644</td>\n",
              "      <td>80.858</td>\n",
              "      <td>5</td>\n",
              "      <td>3</td>\n",
              "      <td>1</td>\n",
              "      <td>243.90485</td>\n",
              "      <td>40.933598</td>\n",
              "      <td>51.091944</td>\n",
              "      <td>104.771642</td>\n",
              "      <td>16.360195</td>\n",
              "      <td>45.978334</td>\n",
              "      <td>-28.804994</td>\n",
              "      <td>-1.446388</td>\n",
              "      <td>-0.396586</td>\n",
              "      <td>4.466121</td>\n",
              "      <td>2.274429</td>\n",
              "      <td>4.944127</td>\n",
              "      <td>30.829985</td>\n",
              "      <td>27.334452</td>\n",
              "      <td>1370.864103</td>\n",
              "      <td>1035.682544</td>\n",
              "      <td>989.243888</td>\n",
              "      <td>795.210599</td>\n",
              "      <td>106.194887</td>\n",
              "      <td>686.058702</td>\n",
              "      <td>191.488249</td>\n",
              "      <td>148.468284</td>\n",
              "      <td>66.346029</td>\n",
              "      <td>106.586461</td>\n",
              "      <td>729.074605</td>\n",
              "      <td>SOXEPSI12AB0182CC6</td>\n",
              "      <td>Oak Or Rock</td>\n",
              "      <td>2004</td>\n",
              "    </tr>\n",
              "    <tr>\n",
              "      <th>...</th>\n",
              "      <td>...</td>\n",
              "      <td>...</td>\n",
              "      <td>...</td>\n",
              "      <td>...</td>\n",
              "      <td>...</td>\n",
              "      <td>...</td>\n",
              "      <td>...</td>\n",
              "      <td>...</td>\n",
              "      <td>...</td>\n",
              "      <td>...</td>\n",
              "      <td>...</td>\n",
              "      <td>...</td>\n",
              "      <td>...</td>\n",
              "      <td>...</td>\n",
              "      <td>...</td>\n",
              "      <td>...</td>\n",
              "      <td>...</td>\n",
              "      <td>...</td>\n",
              "      <td>...</td>\n",
              "      <td>...</td>\n",
              "      <td>...</td>\n",
              "      <td>...</td>\n",
              "      <td>...</td>\n",
              "      <td>...</td>\n",
              "      <td>...</td>\n",
              "      <td>...</td>\n",
              "      <td>...</td>\n",
              "      <td>...</td>\n",
              "      <td>...</td>\n",
              "      <td>...</td>\n",
              "      <td>...</td>\n",
              "      <td>...</td>\n",
              "      <td>...</td>\n",
              "      <td>...</td>\n",
              "      <td>...</td>\n",
              "      <td>...</td>\n",
              "      <td>...</td>\n",
              "      <td>...</td>\n",
              "    </tr>\n",
              "    <tr>\n",
              "      <th>34801</th>\n",
              "      <td>34802</td>\n",
              "      <td>soul and reggae</td>\n",
              "      <td>TRGYRMA128E078FC55</td>\n",
              "      <td>Erykah Badu</td>\n",
              "      <td>Danger</td>\n",
              "      <td>-10.162</td>\n",
              "      <td>88.951</td>\n",
              "      <td>4</td>\n",
              "      <td>11</td>\n",
              "      <td>1</td>\n",
              "      <td>348.96934</td>\n",
              "      <td>40.231725</td>\n",
              "      <td>46.282408</td>\n",
              "      <td>-13.655822</td>\n",
              "      <td>5.946664</td>\n",
              "      <td>14.348422</td>\n",
              "      <td>-2.672532</td>\n",
              "      <td>5.951254</td>\n",
              "      <td>6.642360</td>\n",
              "      <td>6.464162</td>\n",
              "      <td>15.298649</td>\n",
              "      <td>-9.405466</td>\n",
              "      <td>2.804328</td>\n",
              "      <td>42.698623</td>\n",
              "      <td>3135.495359</td>\n",
              "      <td>4339.425990</td>\n",
              "      <td>4081.017023</td>\n",
              "      <td>1248.530483</td>\n",
              "      <td>1655.677367</td>\n",
              "      <td>1000.603204</td>\n",
              "      <td>650.139870</td>\n",
              "      <td>487.150838</td>\n",
              "      <td>503.846148</td>\n",
              "      <td>641.508417</td>\n",
              "      <td>395.121718</td>\n",
              "      <td>SORHLQN12A6701FC3E</td>\n",
              "      <td>Worldwide Underground</td>\n",
              "      <td>2003</td>\n",
              "    </tr>\n",
              "    <tr>\n",
              "      <th>34802</th>\n",
              "      <td>34803</td>\n",
              "      <td>soul and reggae</td>\n",
              "      <td>TRZZFQW128E078FC5A</td>\n",
              "      <td>Erykah Badu</td>\n",
              "      <td>Hollywood</td>\n",
              "      <td>-5.466</td>\n",
              "      <td>130.615</td>\n",
              "      <td>3</td>\n",
              "      <td>9</td>\n",
              "      <td>1</td>\n",
              "      <td>332.32934</td>\n",
              "      <td>43.813328</td>\n",
              "      <td>5.111750</td>\n",
              "      <td>-2.705070</td>\n",
              "      <td>-3.683494</td>\n",
              "      <td>2.478473</td>\n",
              "      <td>-3.406668</td>\n",
              "      <td>9.211850</td>\n",
              "      <td>3.222463</td>\n",
              "      <td>14.685264</td>\n",
              "      <td>3.570673</td>\n",
              "      <td>-7.111661</td>\n",
              "      <td>0.793817</td>\n",
              "      <td>52.380335</td>\n",
              "      <td>2852.962520</td>\n",
              "      <td>3759.486850</td>\n",
              "      <td>3703.892394</td>\n",
              "      <td>1413.063618</td>\n",
              "      <td>1375.104641</td>\n",
              "      <td>951.467238</td>\n",
              "      <td>621.927699</td>\n",
              "      <td>418.507034</td>\n",
              "      <td>409.707771</td>\n",
              "      <td>504.899788</td>\n",
              "      <td>350.913794</td>\n",
              "      <td>SOIOSMM12A6701FC43</td>\n",
              "      <td>Worldwide Underground</td>\n",
              "      <td>2000</td>\n",
              "    </tr>\n",
              "    <tr>\n",
              "      <th>34803</th>\n",
              "      <td>34804</td>\n",
              "      <td>soul and reggae</td>\n",
              "      <td>TRAMYBB128F424D86D</td>\n",
              "      <td>Erykah Badu</td>\n",
              "      <td>Think Twice</td>\n",
              "      <td>-9.494</td>\n",
              "      <td>88.976</td>\n",
              "      <td>4</td>\n",
              "      <td>3</td>\n",
              "      <td>1</td>\n",
              "      <td>182.04689</td>\n",
              "      <td>38.561170</td>\n",
              "      <td>21.603243</td>\n",
              "      <td>-43.954808</td>\n",
              "      <td>11.649718</td>\n",
              "      <td>-0.986997</td>\n",
              "      <td>-10.491520</td>\n",
              "      <td>-6.064987</td>\n",
              "      <td>-12.996223</td>\n",
              "      <td>8.259268</td>\n",
              "      <td>1.978779</td>\n",
              "      <td>1.043235</td>\n",
              "      <td>-2.172406</td>\n",
              "      <td>30.401080</td>\n",
              "      <td>2950.171909</td>\n",
              "      <td>4288.018243</td>\n",
              "      <td>3694.070826</td>\n",
              "      <td>1336.559501</td>\n",
              "      <td>1613.559675</td>\n",
              "      <td>1017.527699</td>\n",
              "      <td>1155.936991</td>\n",
              "      <td>422.885540</td>\n",
              "      <td>519.527734</td>\n",
              "      <td>538.895856</td>\n",
              "      <td>313.775934</td>\n",
              "      <td>SOOOJDY12A6D4F63AA</td>\n",
              "      <td>Worldwide Underground</td>\n",
              "      <td>2003</td>\n",
              "    </tr>\n",
              "    <tr>\n",
              "      <th>34804</th>\n",
              "      <td>34805</td>\n",
              "      <td>soul and reggae</td>\n",
              "      <td>TRABWFM128F424D86A</td>\n",
              "      <td>Erykah Badu / Dead Prez</td>\n",
              "      <td>The Grind</td>\n",
              "      <td>-7.617</td>\n",
              "      <td>67.929</td>\n",
              "      <td>3</td>\n",
              "      <td>0</td>\n",
              "      <td>1</td>\n",
              "      <td>169.42975</td>\n",
              "      <td>41.280131</td>\n",
              "      <td>8.233834</td>\n",
              "      <td>-41.325696</td>\n",
              "      <td>-1.864784</td>\n",
              "      <td>7.786002</td>\n",
              "      <td>0.071631</td>\n",
              "      <td>-14.726294</td>\n",
              "      <td>-6.791047</td>\n",
              "      <td>3.653238</td>\n",
              "      <td>11.307610</td>\n",
              "      <td>-5.241222</td>\n",
              "      <td>6.730477</td>\n",
              "      <td>32.521843</td>\n",
              "      <td>2362.093998</td>\n",
              "      <td>2846.537149</td>\n",
              "      <td>3655.514437</td>\n",
              "      <td>1811.926034</td>\n",
              "      <td>1705.581355</td>\n",
              "      <td>1024.020625</td>\n",
              "      <td>1052.533278</td>\n",
              "      <td>533.349475</td>\n",
              "      <td>591.853048</td>\n",
              "      <td>598.054091</td>\n",
              "      <td>443.893807</td>\n",
              "      <td>SOFHKVX12D021908B3</td>\n",
              "      <td>Worldwide Underground</td>\n",
              "      <td>2003</td>\n",
              "    </tr>\n",
              "    <tr>\n",
              "      <th>34805</th>\n",
              "      <td>34806</td>\n",
              "      <td>soul and reggae</td>\n",
              "      <td>TREBGAA128E078FC52</td>\n",
              "      <td>Erykah Badu</td>\n",
              "      <td>I Want You</td>\n",
              "      <td>-11.774</td>\n",
              "      <td>85.176</td>\n",
              "      <td>3</td>\n",
              "      <td>7</td>\n",
              "      <td>1</td>\n",
              "      <td>653.13914</td>\n",
              "      <td>36.905053</td>\n",
              "      <td>-38.781680</td>\n",
              "      <td>-46.617109</td>\n",
              "      <td>-5.625779</td>\n",
              "      <td>9.893642</td>\n",
              "      <td>-4.053884</td>\n",
              "      <td>-3.872201</td>\n",
              "      <td>9.105505</td>\n",
              "      <td>15.104456</td>\n",
              "      <td>6.985565</td>\n",
              "      <td>-3.970514</td>\n",
              "      <td>3.812702</td>\n",
              "      <td>72.079646</td>\n",
              "      <td>6087.226854</td>\n",
              "      <td>4674.278795</td>\n",
              "      <td>3350.057925</td>\n",
              "      <td>1415.012485</td>\n",
              "      <td>1638.098332</td>\n",
              "      <td>815.354914</td>\n",
              "      <td>1790.130881</td>\n",
              "      <td>562.270433</td>\n",
              "      <td>659.321422</td>\n",
              "      <td>531.850198</td>\n",
              "      <td>607.215961</td>\n",
              "      <td>SOVYGAV12A58A7C3A9</td>\n",
              "      <td>Worldwide Underground</td>\n",
              "      <td>2003</td>\n",
              "    </tr>\n",
              "  </tbody>\n",
              "</table>\n",
              "<p>7806 rows × 38 columns</p>\n",
              "</div>"
            ],
            "text/plain": [
              "       Unnamed: 0                  genre  ...                release  year\n",
              "27000       27001  dance and electronica  ...            Oak Or Rock  2004\n",
              "27001       27002  dance and electronica  ...            Oak Or Rock  2004\n",
              "27002       27003  dance and electronica  ...            Oak Or Rock  2004\n",
              "27003       27004  dance and electronica  ...            Oak Or Rock  2004\n",
              "27004       27005  dance and electronica  ...            Oak Or Rock  2004\n",
              "...           ...                    ...  ...                    ...   ...\n",
              "34801       34802        soul and reggae  ...  Worldwide Underground  2003\n",
              "34802       34803        soul and reggae  ...  Worldwide Underground  2000\n",
              "34803       34804        soul and reggae  ...  Worldwide Underground  2003\n",
              "34804       34805        soul and reggae  ...  Worldwide Underground  2003\n",
              "34805       34806        soul and reggae  ...  Worldwide Underground  2003\n",
              "\n",
              "[7806 rows x 38 columns]"
            ]
          },
          "metadata": {
            "tags": []
          },
          "execution_count": 33
        }
      ]
    },
    {
      "cell_type": "code",
      "metadata": {
        "id": "7IavHPzBjZRt"
      },
      "source": [
        "# Dropping duplicates from the original dataset, if any.\n",
        "df_combined.drop_duplicates(inplace=True)"
      ],
      "execution_count": null,
      "outputs": []
    },
    {
      "cell_type": "code",
      "metadata": {
        "id": "cFmEB1hgaLRH"
      },
      "source": [
        "# Merging the original dataset and the combined dataset on the basis of title of the song.\n",
        "pd_final=pd.merge(df_combined,df_orig,on=\"title\")"
      ],
      "execution_count": null,
      "outputs": []
    },
    {
      "cell_type": "code",
      "metadata": {
        "id": "de0Oqb9EelbO",
        "outputId": "f8963e77-d8ae-4016-fe83-4e2860e56aac",
        "colab": {
          "base_uri": "https://localhost:8080/"
        }
      },
      "source": [
        "# Having a look on the shape of the merged dataset, original dataset and the combined dataset, we can tell that the rows of the merged dataset lies in between the original and the combined dataset.\n",
        "# This is so because the original dataset has songs that are being repeated by different users and hence, same song from the combined dataset may repeat more than once in the original dataset. The \n",
        "# size of the merged dataset is less than the original dataset because information of few songs were not extracted because of http request being timed out. \n",
        "pd_final.shape,df_orig.shape,df_combined.shape"
      ],
      "execution_count": null,
      "outputs": [
        {
          "output_type": "execute_result",
          "data": {
            "text/plain": [
              "((7396, 41), (7806, 38), (6681, 4))"
            ]
          },
          "metadata": {
            "tags": []
          },
          "execution_count": 43
        }
      ]
    },
    {
      "cell_type": "code",
      "metadata": {
        "id": "GxBoj5XKe1X0",
        "outputId": "a431c3f8-62db-4ef5-ae13-0172b9fbefb0",
        "colab": {
          "base_uri": "https://localhost:8080/"
        }
      },
      "source": [
        "pd_final.title"
      ],
      "execution_count": null,
      "outputs": [
        {
          "output_type": "execute_result",
          "data": {
            "text/plain": [
              "0                         Oak Or Rock\n",
              "1                         Earth Diver\n",
              "2       You Must Welcome The Stranger\n",
              "3               The Melancholic Giant\n",
              "4        The Boiling Fjords Orchestra\n",
              "                    ...              \n",
              "7391                          Umm Hmm\n",
              "7392                  Back In The Day\n",
              "7393                           Danger\n",
              "7394                        Hollywood\n",
              "7395                        The Grind\n",
              "Name: title, Length: 7396, dtype: object"
            ]
          },
          "metadata": {
            "tags": []
          },
          "execution_count": 46
        }
      ]
    },
    {
      "cell_type": "code",
      "metadata": {
        "id": "RkKoyia4jxWZ"
      },
      "source": [
        "# Dropping the unwanted column\n",
        "pd_final.drop(columns=\"Unnamed: 0\",inplace=True)"
      ],
      "execution_count": null,
      "outputs": []
    },
    {
      "cell_type": "code",
      "metadata": {
        "id": "NnCvRiuJknWJ",
        "outputId": "40f1ec0c-3bba-434c-b741-7188d77fa60a",
        "colab": {
          "base_uri": "https://localhost:8080/"
        }
      },
      "source": [
        "# Checking for null values.\n",
        "pd_final.isnull().sum().sum()"
      ],
      "execution_count": null,
      "outputs": [
        {
          "output_type": "execute_result",
          "data": {
            "text/plain": [
              "0"
            ]
          },
          "metadata": {
            "tags": []
          },
          "execution_count": 54
        }
      ]
    },
    {
      "cell_type": "code",
      "metadata": {
        "id": "S5nF2WfVlCIr",
        "outputId": "cb095260-a6f4-4145-d77a-f74bd42034b7",
        "colab": {
          "base_uri": "https://localhost:8080/"
        }
      },
      "source": [
        "# Dropping duplicates if any.\n",
        "pd_final.drop_duplicates().shape"
      ],
      "execution_count": null,
      "outputs": [
        {
          "output_type": "execute_result",
          "data": {
            "text/plain": [
              "(7396, 40)"
            ]
          },
          "metadata": {
            "tags": []
          },
          "execution_count": 55
        }
      ]
    },
    {
      "cell_type": "code",
      "metadata": {
        "id": "Z0cCmOvGlKC1"
      },
      "source": [
        "# No need to drop anything"
      ],
      "execution_count": null,
      "outputs": []
    },
    {
      "cell_type": "code",
      "metadata": {
        "id": "8cQltLJRlOQ4"
      },
      "source": [
        "pd_final"
      ],
      "execution_count": null,
      "outputs": []
    },
    {
      "cell_type": "code",
      "metadata": {
        "id": "LzRwleVfl4T-",
        "outputId": "c989d0a3-2123-4e4b-d5d4-6e8f22c570da",
        "colab": {
          "base_uri": "https://localhost:8080/",
          "height": 416
        }
      },
      "source": [
        "pd_final.sample(5)"
      ],
      "execution_count": null,
      "outputs": [
        {
          "output_type": "execute_result",
          "data": {
            "text/html": [
              "<div>\n",
              "<style scoped>\n",
              "    .dataframe tbody tr th:only-of-type {\n",
              "        vertical-align: middle;\n",
              "    }\n",
              "\n",
              "    .dataframe tbody tr th {\n",
              "        vertical-align: top;\n",
              "    }\n",
              "\n",
              "    .dataframe thead th {\n",
              "        text-align: right;\n",
              "    }\n",
              "</style>\n",
              "<table border=\"1\" class=\"dataframe\">\n",
              "  <thead>\n",
              "    <tr style=\"text-align: right;\">\n",
              "      <th></th>\n",
              "      <th>title</th>\n",
              "      <th>MFCCs</th>\n",
              "      <th>views</th>\n",
              "      <th>rating</th>\n",
              "      <th>genre</th>\n",
              "      <th>track_id</th>\n",
              "      <th>artist_name</th>\n",
              "      <th>loudness</th>\n",
              "      <th>tempo</th>\n",
              "      <th>time_signature</th>\n",
              "      <th>key</th>\n",
              "      <th>mode</th>\n",
              "      <th>duration</th>\n",
              "      <th>avg_timbre1</th>\n",
              "      <th>avg_timbre2</th>\n",
              "      <th>avg_timbre3</th>\n",
              "      <th>avg_timbre4</th>\n",
              "      <th>avg_timbre5</th>\n",
              "      <th>avg_timbre6</th>\n",
              "      <th>avg_timbre7</th>\n",
              "      <th>avg_timbre8</th>\n",
              "      <th>avg_timbre9</th>\n",
              "      <th>avg_timbre10</th>\n",
              "      <th>avg_timbre11</th>\n",
              "      <th>avg_timbre12</th>\n",
              "      <th>var_timbre1</th>\n",
              "      <th>var_timbre2</th>\n",
              "      <th>var_timbre3</th>\n",
              "      <th>var_timbre4</th>\n",
              "      <th>var_timbre5</th>\n",
              "      <th>var_timbre6</th>\n",
              "      <th>var_timbre7</th>\n",
              "      <th>var_timbre8</th>\n",
              "      <th>var_timbre9</th>\n",
              "      <th>var_timbre10</th>\n",
              "      <th>var_timbre11</th>\n",
              "      <th>var_timbre12</th>\n",
              "      <th>song_id</th>\n",
              "      <th>release</th>\n",
              "      <th>year</th>\n",
              "    </tr>\n",
              "  </thead>\n",
              "  <tbody>\n",
              "    <tr>\n",
              "      <th>4665</th>\n",
              "      <td>The Breakout</td>\n",
              "      <td>[[-547.06707428 -547.06707428 -547.06707428 .....</td>\n",
              "      <td>78</td>\n",
              "      <td>4.111111</td>\n",
              "      <td>jazz and blues</td>\n",
              "      <td>TRRWABT128F429BBF6</td>\n",
              "      <td>The Bad Plus</td>\n",
              "      <td>-17.106</td>\n",
              "      <td>106.390</td>\n",
              "      <td>4</td>\n",
              "      <td>5</td>\n",
              "      <td>0</td>\n",
              "      <td>323.68281</td>\n",
              "      <td>30.798945</td>\n",
              "      <td>-23.095608</td>\n",
              "      <td>-41.819153</td>\n",
              "      <td>-5.272271</td>\n",
              "      <td>0.478451</td>\n",
              "      <td>-20.545796</td>\n",
              "      <td>1.593898</td>\n",
              "      <td>6.250986</td>\n",
              "      <td>2.614479</td>\n",
              "      <td>10.055295</td>\n",
              "      <td>-0.864944</td>\n",
              "      <td>-1.497632</td>\n",
              "      <td>82.664483</td>\n",
              "      <td>2343.188503</td>\n",
              "      <td>1726.583042</td>\n",
              "      <td>2534.933759</td>\n",
              "      <td>511.147765</td>\n",
              "      <td>745.093147</td>\n",
              "      <td>442.773130</td>\n",
              "      <td>392.381936</td>\n",
              "      <td>290.799158</td>\n",
              "      <td>290.175990</td>\n",
              "      <td>228.620672</td>\n",
              "      <td>328.222289</td>\n",
              "      <td>SOVVEVJ12A58A7D305</td>\n",
              "      <td>Motel</td>\n",
              "      <td>2001</td>\n",
              "    </tr>\n",
              "    <tr>\n",
              "      <th>6697</th>\n",
              "      <td>The Itch</td>\n",
              "      <td>[[-5.10413232e+02 -5.09196307e+02 -2.42047259e...</td>\n",
              "      <td>8006</td>\n",
              "      <td>5.000000</td>\n",
              "      <td>soul and reggae</td>\n",
              "      <td>TREXXZR12903CE6E5C</td>\n",
              "      <td>Belleruche</td>\n",
              "      <td>-9.631</td>\n",
              "      <td>190.842</td>\n",
              "      <td>5</td>\n",
              "      <td>5</td>\n",
              "      <td>0</td>\n",
              "      <td>112.32608</td>\n",
              "      <td>37.853462</td>\n",
              "      <td>-13.627632</td>\n",
              "      <td>-59.613884</td>\n",
              "      <td>-13.915636</td>\n",
              "      <td>-8.886500</td>\n",
              "      <td>-0.029770</td>\n",
              "      <td>-16.922955</td>\n",
              "      <td>-6.617525</td>\n",
              "      <td>-0.975967</td>\n",
              "      <td>3.600567</td>\n",
              "      <td>-6.055683</td>\n",
              "      <td>-1.698397</td>\n",
              "      <td>46.962248</td>\n",
              "      <td>3178.802514</td>\n",
              "      <td>2334.828097</td>\n",
              "      <td>3754.031987</td>\n",
              "      <td>1220.093874</td>\n",
              "      <td>1277.351480</td>\n",
              "      <td>757.515320</td>\n",
              "      <td>984.966176</td>\n",
              "      <td>397.644692</td>\n",
              "      <td>581.868504</td>\n",
              "      <td>624.479010</td>\n",
              "      <td>309.931501</td>\n",
              "      <td>SOMZBDE12A8C13A8CB</td>\n",
              "      <td>Turntable Soul Music</td>\n",
              "      <td>2007</td>\n",
              "    </tr>\n",
              "    <tr>\n",
              "      <th>5301</th>\n",
              "      <td>Indung</td>\n",
              "      <td>[[-494.50214301 -494.50214301 -494.50214301 .....</td>\n",
              "      <td>1241</td>\n",
              "      <td>5.000000</td>\n",
              "      <td>hip-hop</td>\n",
              "      <td>TRFQCEE128F4298E2A</td>\n",
              "      <td>Ahli Fiqir</td>\n",
              "      <td>-11.746</td>\n",
              "      <td>115.969</td>\n",
              "      <td>3</td>\n",
              "      <td>6</td>\n",
              "      <td>1</td>\n",
              "      <td>246.75220</td>\n",
              "      <td>38.702778</td>\n",
              "      <td>-37.083972</td>\n",
              "      <td>-73.552223</td>\n",
              "      <td>-0.224095</td>\n",
              "      <td>20.916485</td>\n",
              "      <td>-8.195181</td>\n",
              "      <td>-3.073397</td>\n",
              "      <td>-27.134070</td>\n",
              "      <td>13.085502</td>\n",
              "      <td>6.321528</td>\n",
              "      <td>-3.816842</td>\n",
              "      <td>1.340199</td>\n",
              "      <td>25.878994</td>\n",
              "      <td>3250.197900</td>\n",
              "      <td>4890.107318</td>\n",
              "      <td>3570.667895</td>\n",
              "      <td>911.497914</td>\n",
              "      <td>1961.883896</td>\n",
              "      <td>827.123712</td>\n",
              "      <td>1477.216889</td>\n",
              "      <td>464.073478</td>\n",
              "      <td>779.260574</td>\n",
              "      <td>661.159187</td>\n",
              "      <td>354.136056</td>\n",
              "      <td>SOZFSZP12A8C13C789</td>\n",
              "      <td>Rap Untuk Rakyat</td>\n",
              "      <td>2007</td>\n",
              "    </tr>\n",
              "    <tr>\n",
              "      <th>6901</th>\n",
              "      <td>Herbalist</td>\n",
              "      <td>[[-525.98319558 -525.98319558 -525.98319558 .....</td>\n",
              "      <td>239605</td>\n",
              "      <td>4.893855</td>\n",
              "      <td>soul and reggae</td>\n",
              "      <td>TRKCAOD128F4298B71</td>\n",
              "      <td>Chezidek</td>\n",
              "      <td>-6.263</td>\n",
              "      <td>164.169</td>\n",
              "      <td>4</td>\n",
              "      <td>3</td>\n",
              "      <td>0</td>\n",
              "      <td>226.71628</td>\n",
              "      <td>46.448374</td>\n",
              "      <td>54.398749</td>\n",
              "      <td>2.654749</td>\n",
              "      <td>-0.865006</td>\n",
              "      <td>6.319102</td>\n",
              "      <td>3.330919</td>\n",
              "      <td>21.941517</td>\n",
              "      <td>9.410636</td>\n",
              "      <td>-7.214451</td>\n",
              "      <td>3.330642</td>\n",
              "      <td>-12.995810</td>\n",
              "      <td>-15.544702</td>\n",
              "      <td>29.273074</td>\n",
              "      <td>1686.227012</td>\n",
              "      <td>2039.133261</td>\n",
              "      <td>2669.666254</td>\n",
              "      <td>1158.883542</td>\n",
              "      <td>1399.145274</td>\n",
              "      <td>1275.471539</td>\n",
              "      <td>626.282459</td>\n",
              "      <td>522.786343</td>\n",
              "      <td>326.115885</td>\n",
              "      <td>685.074821</td>\n",
              "      <td>410.260169</td>\n",
              "      <td>SOTXUPT12A8C13EE9C</td>\n",
              "      <td>Riddim Driven: Jam Down</td>\n",
              "      <td>2009</td>\n",
              "    </tr>\n",
              "    <tr>\n",
              "      <th>2202</th>\n",
              "      <td>Destructo Spin (Album Version)</td>\n",
              "      <td>[[-493.13364369 -493.13364369 -493.13364369 .....</td>\n",
              "      <td>20403</td>\n",
              "      <td>4.718750</td>\n",
              "      <td>metal</td>\n",
              "      <td>TRVBXWI128F422F1A0</td>\n",
              "      <td>Between The Buried And Me</td>\n",
              "      <td>-4.852</td>\n",
              "      <td>159.879</td>\n",
              "      <td>1</td>\n",
              "      <td>9</td>\n",
              "      <td>1</td>\n",
              "      <td>286.35383</td>\n",
              "      <td>50.475310</td>\n",
              "      <td>48.168129</td>\n",
              "      <td>22.783902</td>\n",
              "      <td>-11.576019</td>\n",
              "      <td>-23.214512</td>\n",
              "      <td>-21.933904</td>\n",
              "      <td>1.705067</td>\n",
              "      <td>4.400418</td>\n",
              "      <td>1.621097</td>\n",
              "      <td>5.109638</td>\n",
              "      <td>-2.563126</td>\n",
              "      <td>-2.131119</td>\n",
              "      <td>71.686870</td>\n",
              "      <td>4097.364414</td>\n",
              "      <td>550.610194</td>\n",
              "      <td>503.298283</td>\n",
              "      <td>951.487359</td>\n",
              "      <td>412.321880</td>\n",
              "      <td>255.827091</td>\n",
              "      <td>283.685068</td>\n",
              "      <td>301.263455</td>\n",
              "      <td>196.147672</td>\n",
              "      <td>154.026971</td>\n",
              "      <td>221.051678</td>\n",
              "      <td>SOTIQMD12A6D4FDC9C</td>\n",
              "      <td>The Silent Circus</td>\n",
              "      <td>2003</td>\n",
              "    </tr>\n",
              "  </tbody>\n",
              "</table>\n",
              "</div>"
            ],
            "text/plain": [
              "                               title  ...  year\n",
              "4665                    The Breakout  ...  2001\n",
              "6697                        The Itch  ...  2007\n",
              "5301                          Indung  ...  2007\n",
              "6901                       Herbalist  ...  2009\n",
              "2202  Destructo Spin (Album Version)  ...  2003\n",
              "\n",
              "[5 rows x 40 columns]"
            ]
          },
          "metadata": {
            "tags": []
          },
          "execution_count": 57
        }
      ]
    },
    {
      "cell_type": "code",
      "metadata": {
        "id": "gKrKGMxZuMpy"
      },
      "source": [
        "# Saving the csv file\n",
        "pd_final.to_csv(\"Songs(27k-34k)_final.csv\")"
      ],
      "execution_count": null,
      "outputs": []
    }
  ]
}