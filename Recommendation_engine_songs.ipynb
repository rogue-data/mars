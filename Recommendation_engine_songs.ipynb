{
 "cells": [
  {
   "cell_type": "code",
   "execution_count": 1,
   "metadata": {
    "colab": {
     "base_uri": "https://localhost:8080/"
    },
    "id": "QujtqHK0hmgT",
    "outputId": "22f7ddfb-9174-4672-b93b-71d61271b807"
   },
   "outputs": [
    {
     "name": "stdout",
     "output_type": "stream",
     "text": [
      "Collecting spotipy\n",
      "  Downloading https://files.pythonhosted.org/packages/7a/cd/e7d9a35216ea5bfb9234785f3d8fa7c96d0e33999c2cb72394128f6b4cce/spotipy-2.16.1-py3-none-any.whl\n",
      "Requirement already satisfied: requests>=2.20.0 in /usr/local/lib/python3.6/dist-packages (from spotipy) (2.23.0)\n",
      "Requirement already satisfied: six>=1.10.0 in /usr/local/lib/python3.6/dist-packages (from spotipy) (1.15.0)\n",
      "Requirement already satisfied: idna<3,>=2.5 in /usr/local/lib/python3.6/dist-packages (from requests>=2.20.0->spotipy) (2.10)\n",
      "Requirement already satisfied: chardet<4,>=3.0.2 in /usr/local/lib/python3.6/dist-packages (from requests>=2.20.0->spotipy) (3.0.4)\n",
      "Requirement already satisfied: urllib3!=1.25.0,!=1.25.1,<1.26,>=1.21.1 in /usr/local/lib/python3.6/dist-packages (from requests>=2.20.0->spotipy) (1.24.3)\n",
      "Requirement already satisfied: certifi>=2017.4.17 in /usr/local/lib/python3.6/dist-packages (from requests>=2.20.0->spotipy) (2020.6.20)\n",
      "Installing collected packages: spotipy\n",
      "Successfully installed spotipy-2.16.1\n"
     ]
    }
   ],
   "source": [
    "!pip install spotipy"
   ]
  },
  {
   "cell_type": "code",
   "execution_count": 9,
   "metadata": {
    "id": "P521NUA2h6y_"
   },
   "outputs": [],
   "source": [
    "import spotipy\n",
    "from spotipy.oauth2 import SpotifyClientCredentials\n",
    "import pandas as pd\n",
    "from sklearn.metrics.pairwise import cosine_similarity, euclidean_distances\n",
    "\n",
    "client_id = 'e55a0893bd7f4c7e9628fe6ee58f4324'\n",
    "client_secret = 'a434335709d84dac9c222a941db65c30'\n",
    "\n",
    "client_credentials_manager = SpotifyClientCredentials(client_id, client_secret)\n",
    "sp = spotipy.Spotify(client_credentials_manager=client_credentials_manager)"
   ]
  },
  {
   "cell_type": "code",
   "execution_count": 3,
   "metadata": {
    "id": "jj1_ficwh6c_"
   },
   "outputs": [],
   "source": [
    "def song_url(name):\n",
    "  sp = spotipy.Spotify(auth_manager=SpotifyClientCredentials(client_id=client_id,\n",
    "                                                           client_secret=client_secret))\n",
    "  result=sp.search(q=name,limit=1)\n",
    "  result=result['tracks']\n",
    "  result=result['items']\n",
    "  result=result[0]\n",
    "  return (result['external_urls'])['spotify']"
   ]
  },
  {
   "cell_type": "code",
   "execution_count": 24,
   "metadata": {
    "id": "N9BeGOk0iavD"
   },
   "outputs": [],
   "source": [
    "def getTrackFeatures(id):\n",
    "  meta = sp.track(id)\n",
    "  features = sp.audio_features(id)\n",
    "\n",
    "  # meta\n",
    "  name = meta['name']\n",
    "  #album = meta['album']['name']\n",
    "  artists = meta['album']['artists'][0]['name']\n",
    "  release_date = meta['album']['release_date']\n",
    "  duration_ms = meta['duration_ms']\n",
    "  popularity = meta['popularity']\n",
    "  year = int(meta['album']['release_date'][:4])\n",
    "\n",
    "  # features\n",
    "  acousticness = features[0]['acousticness']\n",
    "  danceability = features[0]['danceability']\n",
    "  energy = features[0]['energy']\n",
    "  instrumentalness = features[0]['instrumentalness']\n",
    "  liveness = features[0]['liveness']\n",
    "  loudness = features[0]['loudness']\n",
    "  speechiness = features[0]['speechiness']\n",
    "  tempo = features[0]['tempo']\n",
    "  mode =features[0]['mode']\n",
    "  key = features[0]['key']\n",
    "  valence =features[0]['valence']\n",
    "  time_signature = features[0]['time_signature']\n",
    "\n",
    "  track = [acousticness, \"['\"+artists+\"']\", danceability, duration_ms, energy,\n",
    "        id[-22:], instrumentalness, key, liveness, loudness,\n",
    "       mode, name, popularity, speechiness, tempo,\n",
    "       valence, year]\n",
    "  return track"
   ]
  },
  {
   "cell_type": "code",
   "execution_count": 62,
   "metadata": {
    "id": "KJlr1uvOjjSk"
   },
   "outputs": [],
   "source": [
    "def recommend_cosine(artist,song,data):\n",
    "  song_df = data.loc[len(data)-1,:]\n",
    "  song_df=pd.DataFrame(song_df).T\n",
    "  song_df.drop(columns='key',inplace=True)\n",
    "  similarity_data = data.copy()\n",
    "\n",
    "  data_values = similarity_data.loc[:,['acousticness', 'danceability',\n",
    "      'energy', 'instrumentalness', 'liveness', 'loudness', 'mode',\n",
    "      'speechiness', 'tempo', 'valence']]\n",
    "  similarity_data['Similarity with song'] =cosine_similarity(data_values, data_values.to_numpy()[song_df.index[0],None]).squeeze()\n",
    "  return (similarity_data.sort_values(by='Similarity with song',ascending=False)[1:6]).name"
   ]
  },
  {
   "cell_type": "code",
   "execution_count": 67,
   "metadata": {
    "id": "YisnSywGhuRN"
   },
   "outputs": [],
   "source": [
    "def recommend_songs(song):\n",
    "  # Fetch url\n",
    "  url=song_url(song)\n",
    "  # Get the metadata\n",
    "  track=getTrackFeatures(url)\n",
    "  # Store the metadata into our dataframe\n",
    "  df=pd.read_csv(r\"/content/drive/MyDrive/Songs dataset spotify/final_dataset.csv\")\n",
    "  df.loc[len(df)]=track\n",
    "  # Sort by year\n",
    "  df=df.sort_values(by='year')\n",
    "  # Save the dataframe\n",
    "  df.to_csv(r\"/content/drive/MyDrive/Songs dataset spotify/final_dataset.csv\",index=False)\n",
    "  # Find the similarity of the songs\n",
    "  return recommend_cosine(df.loc[len(df)-1].artists,song,df)"
   ]
  },
  {
   "cell_type": "code",
   "execution_count": 68,
   "metadata": {
    "colab": {
     "base_uri": "https://localhost:8080/"
    },
    "id": "2g2TiT4tjSkK",
    "outputId": "dbdf13a4-d238-4341-965f-ea8cc7d52619"
   },
   "outputs": [
    {
     "data": {
      "text/plain": [
       "143091        Love Him Like I Do\n",
       "159637         Up! - Red Version\n",
       "61835         She Doesn't Get It\n",
       "134527             Round & Round\n",
       "96492     Party Like A Rock Star\n",
       "Name: name, dtype: object"
      ]
     },
     "execution_count": 68,
     "metadata": {
      "tags": []
     },
     "output_type": "execute_result"
    }
   ],
   "source": [
    "recommend_songs(\"kaun tujhe\")"
   ]
  },
  {
   "cell_type": "code",
   "execution_count": null,
   "metadata": {
    "id": "NPMqvpo94hRj"
   },
   "outputs": [],
   "source": []
  }
 ],
 "metadata": {
  "colab": {
   "collapsed_sections": [],
   "name": "Recommendation_engine_songs.ipynb",
   "provenance": []
  },
  "kernelspec": {
   "display_name": "Python 3",
   "language": "python",
   "name": "python3"
  },
  "language_info": {
   "codemirror_mode": {
    "name": "ipython",
    "version": 3
   },
   "file_extension": ".py",
   "mimetype": "text/x-python",
   "name": "python",
   "nbconvert_exporter": "python",
   "pygments_lexer": "ipython3",
   "version": "3.7.7"
  }
 },
 "nbformat": 4,
 "nbformat_minor": 1
}
