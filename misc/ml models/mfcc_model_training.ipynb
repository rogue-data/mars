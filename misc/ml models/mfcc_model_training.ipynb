{
  "nbformat": 4,
  "nbformat_minor": 0,
  "metadata": {
    "colab": {
      "name": "mfcc_model_training.ipynb",
      "provenance": [],
      "collapsed_sections": []
    },
    "kernelspec": {
      "name": "python3",
      "display_name": "Python 3"
    }
  },
  "cells": [
    {
      "cell_type": "code",
      "metadata": {
        "id": "6jzJ4uIdSUNm"
      },
      "source": [
        "!pip uninstall tensorflow\n",
        "!pip uninstall keras"
      ],
      "execution_count": null,
      "outputs": []
    },
    {
      "cell_type": "code",
      "metadata": {
        "id": "YzabWisSTA30"
      },
      "source": [
        "pip install tensorflow==2.1.0"
      ],
      "execution_count": null,
      "outputs": []
    },
    {
      "cell_type": "code",
      "metadata": {
        "id": "Ng53p_ZjTGlo"
      },
      "source": [
        "pip install keras==2.3.1"
      ],
      "execution_count": null,
      "outputs": []
    },
    {
      "cell_type": "code",
      "metadata": {
        "id": "BV9BL4viR4ZA"
      },
      "source": [
        "# Importing Libraries\n",
        "import json\n",
        "import numpy as np\n",
        "from sklearn.model_selection import train_test_split\n",
        "import tensorflow as tf\n",
        "from tensorflow import keras"
      ],
      "execution_count": 1,
      "outputs": []
    },
    {
      "cell_type": "code",
      "metadata": {
        "colab": {
          "base_uri": "https://localhost:8080/",
          "height": 36
        },
        "id": "vjLVYUDiSZ8y",
        "outputId": "4f35bc90-66b2-4ffb-f535-8d85102161ea"
      },
      "source": [
        "tf.__version__"
      ],
      "execution_count": 2,
      "outputs": [
        {
          "output_type": "execute_result",
          "data": {
            "application/vnd.google.colaboratory.intrinsic+json": {
              "type": "string"
            },
            "text/plain": [
              "'2.1.0'"
            ]
          },
          "metadata": {
            "tags": []
          },
          "execution_count": 2
        }
      ]
    },
    {
      "cell_type": "code",
      "metadata": {
        "id": "m_UuyjlQSc5T"
      },
      "source": [
        "with open(\"/content/drive/MyDrive/data_mfccs.json\",\"r\") as fp:\n",
        "  data=json.load(fp)"
      ],
      "execution_count": 3,
      "outputs": []
    },
    {
      "cell_type": "code",
      "metadata": {
        "colab": {
          "base_uri": "https://localhost:8080/"
        },
        "id": "rvSvt4kGVgdy",
        "outputId": "79d6a655-1dec-4885-dc10-ae34c4bab803"
      },
      "source": [
        "data.keys()"
      ],
      "execution_count": 4,
      "outputs": [
        {
          "output_type": "execute_result",
          "data": {
            "text/plain": [
              "dict_keys(['mapping', 'labels', 'mfcc'])"
            ]
          },
          "metadata": {
            "tags": []
          },
          "execution_count": 4
        }
      ]
    },
    {
      "cell_type": "code",
      "metadata": {
        "id": "TVonD35jVs1P"
      },
      "source": [
        "X=np.array(data['mfcc'])\n",
        "y=np.array(data['labels'])"
      ],
      "execution_count": 5,
      "outputs": []
    },
    {
      "cell_type": "code",
      "metadata": {
        "colab": {
          "base_uri": "https://localhost:8080/"
        },
        "id": "hSToqQ1RWBYE",
        "outputId": "c2cf05c7-3481-4b41-93a0-513bfb14d12e"
      },
      "source": [
        "X[0].shape"
      ],
      "execution_count": 6,
      "outputs": [
        {
          "output_type": "execute_result",
          "data": {
            "text/plain": [
              "(130, 13)"
            ]
          },
          "metadata": {
            "tags": []
          },
          "execution_count": 6
        }
      ]
    },
    {
      "cell_type": "code",
      "metadata": {
        "colab": {
          "base_uri": "https://localhost:8080/"
        },
        "id": "KIatwqhKYxCW",
        "outputId": "dc8d7b90-01f6-48ae-e34f-522de97ea133"
      },
      "source": [
        "X.shape+(1,)"
      ],
      "execution_count": 7,
      "outputs": [
        {
          "output_type": "execute_result",
          "data": {
            "text/plain": [
              "(15992, 130, 13, 1)"
            ]
          },
          "metadata": {
            "tags": []
          },
          "execution_count": 7
        }
      ]
    },
    {
      "cell_type": "code",
      "metadata": {
        "id": "wDIvY0F8X7_a"
      },
      "source": [
        "# Since we require 3d numpy array (3rd channel for rgb or b/w), we will reshape it\n",
        "X=X.reshape(X.shape+(1,))"
      ],
      "execution_count": 8,
      "outputs": []
    },
    {
      "cell_type": "code",
      "metadata": {
        "colab": {
          "base_uri": "https://localhost:8080/"
        },
        "id": "slEcLDZkYlnw",
        "outputId": "3961412a-3127-4f14-eea2-cf80dae45e74"
      },
      "source": [
        "X.shape"
      ],
      "execution_count": 9,
      "outputs": [
        {
          "output_type": "execute_result",
          "data": {
            "text/plain": [
              "(15992, 130, 13, 1)"
            ]
          },
          "metadata": {
            "tags": []
          },
          "execution_count": 9
        }
      ]
    },
    {
      "cell_type": "code",
      "metadata": {
        "id": "LmUom2nNZEQ8"
      },
      "source": [
        "# Lets split our data into train and test data\n",
        "X_train,X_test,y_train,y_test=train_test_split(X,y,test_size=0.2,random_state=7,stratify=y)"
      ],
      "execution_count": 10,
      "outputs": []
    },
    {
      "cell_type": "code",
      "metadata": {
        "colab": {
          "base_uri": "https://localhost:8080/"
        },
        "id": "-iDrnmdFZojo",
        "outputId": "0888925d-3946-4c90-c4d0-6d0fd1cb5e32"
      },
      "source": [
        "X_train.shape,X_test.shape,y_train.shape,y_test.shape"
      ],
      "execution_count": 11,
      "outputs": [
        {
          "output_type": "execute_result",
          "data": {
            "text/plain": [
              "((12793, 130, 13, 1), (3199, 130, 13, 1), (12793,), (3199,))"
            ]
          },
          "metadata": {
            "tags": []
          },
          "execution_count": 11
        }
      ]
    },
    {
      "cell_type": "code",
      "metadata": {
        "colab": {
          "base_uri": "https://localhost:8080/"
        },
        "id": "0tjcXH-6ZuKr",
        "outputId": "67c86a19-5fa2-462b-d04f-80ee3138fb31"
      },
      "source": [
        "for i in set(y_train):\n",
        "  print(i,np.count_nonzero(y_train==i))"
      ],
      "execution_count": 12,
      "outputs": [
        {
          "output_type": "stream",
          "text": [
            "0 1600\n",
            "1 1598\n",
            "2 1600\n",
            "3 1598\n",
            "4 1598\n",
            "5 1599\n",
            "6 1600\n",
            "7 1600\n"
          ],
          "name": "stdout"
        }
      ]
    },
    {
      "cell_type": "code",
      "metadata": {
        "id": "JVFElwuZZ_Ed"
      },
      "source": [
        "# Since we have used stratify=y, we got equally distributed classes"
      ],
      "execution_count": 13,
      "outputs": []
    },
    {
      "cell_type": "code",
      "metadata": {
        "id": "AjCOjtuMbhTo"
      },
      "source": [
        "!pip install tensor-dash"
      ],
      "execution_count": null,
      "outputs": []
    },
    {
      "cell_type": "code",
      "metadata": {
        "id": "PuBB45rYbcU5"
      },
      "source": [
        "# Importing TensorDash to get results in mobile phone\n",
        "from tensordash.tensordash import Tensordash"
      ],
      "execution_count": 14,
      "outputs": []
    },
    {
      "cell_type": "code",
      "metadata": {
        "colab": {
          "base_uri": "https://localhost:8080/"
        },
        "id": "sRRhxfrFbgUZ",
        "outputId": "5dc77cc3-0ac3-4579-f7ac-6efaefc15709"
      },
      "source": [
        "# Give the details to a variable which will later be called in the neural network so that we get the updates through the\n",
        "# TensorDash app in our cell phones\n",
        "histories= Tensordash(ModelName='MFCC_MODEL',\n",
        "                     email='sk8814594@gmail.com')"
      ],
      "execution_count": 15,
      "outputs": [
        {
          "output_type": "stream",
          "text": [
            "Enter Tensordash Password :··········\n"
          ],
          "name": "stdout"
        }
      ]
    },
    {
      "cell_type": "code",
      "metadata": {
        "id": "i51tSrnqa9lw"
      },
      "source": [
        "model=keras.Sequential([\n",
        "                        # CNN Layers\n",
        "                        keras.layers.Conv2D(32,(3,3),activation='relu',input_shape=(130,13,1)),\n",
        "                        keras.layers.Conv2D(64,(3,3),activation='relu'),\n",
        "                        keras.layers.MaxPool2D(),\n",
        "                        keras.layers.Dropout(0.2),\n",
        "\n",
        "                        keras.layers.Conv2D(128,(3,3),activation='relu'),\n",
        "                        keras.layers.Dropout(0.2),\n",
        "\n",
        "                        # ANN\n",
        "                        # Convert 2D into 1D\n",
        "                        keras.layers.Flatten(),\n",
        "\n",
        "                        keras.layers.Dense(64,activation='relu'),\n",
        "                        keras.layers.Dense(8,activation='softmax')\n",
        "])\n",
        "\n",
        "model.compile(optimizer='adam',loss='sparse_categorical_crossentropy',metrics=['accuracy'])"
      ],
      "execution_count": 25,
      "outputs": []
    },
    {
      "cell_type": "code",
      "metadata": {
        "colab": {
          "base_uri": "https://localhost:8080/"
        },
        "id": "I_tCDBbuf-v0",
        "outputId": "710cac2e-468a-4c81-8203-bac5119febfa"
      },
      "source": [
        "model.fit(X_train,y_train,epochs=10,callbacks=[histories],validation_data=(X_test,y_test))"
      ],
      "execution_count": 26,
      "outputs": [
        {
          "output_type": "stream",
          "text": [
            "Train on 12793 samples, validate on 3199 samples\n",
            "Epoch 1/10\n",
            "12793/12793 [==============================] - 99s 8ms/sample - loss: 1.3809 - accuracy: 0.5179 - val_loss: 1.0941 - val_accuracy: 0.5908\n",
            "Epoch 2/10\n",
            "12793/12793 [==============================] - 101s 8ms/sample - loss: 0.8592 - accuracy: 0.6915 - val_loss: 0.7601 - val_accuracy: 0.7399\n",
            "Epoch 3/10\n",
            "12793/12793 [==============================] - 101s 8ms/sample - loss: 0.5862 - accuracy: 0.7921 - val_loss: 0.5594 - val_accuracy: 0.8006\n",
            "Epoch 4/10\n",
            "12793/12793 [==============================] - 102s 8ms/sample - loss: 0.3952 - accuracy: 0.8645 - val_loss: 0.4708 - val_accuracy: 0.8399\n",
            "Epoch 5/10\n",
            "12793/12793 [==============================] - 100s 8ms/sample - loss: 0.2697 - accuracy: 0.9079 - val_loss: 0.4019 - val_accuracy: 0.8709\n",
            "Epoch 6/10\n",
            "12793/12793 [==============================] - 101s 8ms/sample - loss: 0.1993 - accuracy: 0.9304 - val_loss: 0.4321 - val_accuracy: 0.8796\n",
            "Epoch 7/10\n",
            "12793/12793 [==============================] - 99s 8ms/sample - loss: 0.1841 - accuracy: 0.9381 - val_loss: 0.4206 - val_accuracy: 0.8840\n",
            "Epoch 8/10\n",
            "12793/12793 [==============================] - 100s 8ms/sample - loss: 0.1636 - accuracy: 0.9464 - val_loss: 0.4183 - val_accuracy: 0.8900\n",
            "Epoch 9/10\n",
            "12793/12793 [==============================] - 99s 8ms/sample - loss: 0.1253 - accuracy: 0.9576 - val_loss: 0.4311 - val_accuracy: 0.8881\n",
            "Epoch 10/10\n",
            "12793/12793 [==============================] - 98s 8ms/sample - loss: 0.1140 - accuracy: 0.9632 - val_loss: 0.4088 - val_accuracy: 0.9062\n"
          ],
          "name": "stdout"
        },
        {
          "output_type": "execute_result",
          "data": {
            "text/plain": [
              "<tensorflow.python.keras.callbacks.History at 0x7fa3fa9606a0>"
            ]
          },
          "metadata": {
            "tags": []
          },
          "execution_count": 26
        }
      ]
    },
    {
      "cell_type": "code",
      "metadata": {
        "colab": {
          "base_uri": "https://localhost:8080/"
        },
        "id": "xFKvY63mhBlg",
        "outputId": "c300dd61-25c8-462c-ebe8-36c6ad8be7db"
      },
      "source": [
        "model.save(\"/content/drive/MyDrive/mfcc_model\")"
      ],
      "execution_count": 28,
      "outputs": [
        {
          "output_type": "stream",
          "text": [
            "INFO:tensorflow:Assets written to: /content/drive/MyDrive/mfcc_model/assets\n"
          ],
          "name": "stdout"
        }
      ]
    },
    {
      "cell_type": "code",
      "metadata": {
        "id": "S5Et7j5ymo7y"
      },
      "source": [
        "model.summary()"
      ],
      "execution_count": null,
      "outputs": []
    },
    {
      "cell_type": "code",
      "metadata": {
        "id": "XXF2hvCnmwZA"
      },
      "source": [
        ""
      ],
      "execution_count": null,
      "outputs": []
    }
  ]
}