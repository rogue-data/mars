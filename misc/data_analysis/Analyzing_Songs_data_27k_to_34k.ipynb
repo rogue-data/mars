{
  "nbformat": 4,
  "nbformat_minor": 0,
  "metadata": {
    "colab": {
      "name": "Analyzing Songs data.ipynb",
      "provenance": [],
      "collapsed_sections": []
    },
    "kernelspec": {
      "name": "python3",
      "display_name": "Python 3"
    }
  },
  "cells": [
    {
      "cell_type": "code",
      "metadata": {
        "id": "aiKaqBGCuSJp"
      },
      "source": [
        "import pandas as pd"
      ],
      "execution_count": null,
      "outputs": []
    },
    {
      "cell_type": "code",
      "metadata": {
        "id": "ziYXqKfqut1t"
      },
      "source": [
        "df=pd.read_csv(\"/content/Songs(27k-34k)_final.csv\")"
      ],
      "execution_count": null,
      "outputs": []
    },
    {
      "cell_type": "code",
      "metadata": {
        "id": "T5XzzHfBuxg-"
      },
      "source": [
        "import matplotlib.pyplot as plt\n",
        "import seaborn as sns"
      ],
      "execution_count": null,
      "outputs": []
    },
    {
      "cell_type": "code",
      "metadata": {
        "id": "qCXbNfZWu8QQ",
        "outputId": "37e909e5-df0c-40bb-cc93-654c8c859111",
        "colab": {
          "base_uri": "https://localhost:8080/",
          "height": 416
        }
      },
      "source": [
        "df.head()"
      ],
      "execution_count": null,
      "outputs": [
        {
          "output_type": "execute_result",
          "data": {
            "text/html": [
              "<div>\n",
              "<style scoped>\n",
              "    .dataframe tbody tr th:only-of-type {\n",
              "        vertical-align: middle;\n",
              "    }\n",
              "\n",
              "    .dataframe tbody tr th {\n",
              "        vertical-align: top;\n",
              "    }\n",
              "\n",
              "    .dataframe thead th {\n",
              "        text-align: right;\n",
              "    }\n",
              "</style>\n",
              "<table border=\"1\" class=\"dataframe\">\n",
              "  <thead>\n",
              "    <tr style=\"text-align: right;\">\n",
              "      <th></th>\n",
              "      <th>Unnamed: 0</th>\n",
              "      <th>title</th>\n",
              "      <th>MFCCs</th>\n",
              "      <th>views</th>\n",
              "      <th>rating</th>\n",
              "      <th>genre</th>\n",
              "      <th>track_id</th>\n",
              "      <th>artist_name</th>\n",
              "      <th>loudness</th>\n",
              "      <th>tempo</th>\n",
              "      <th>time_signature</th>\n",
              "      <th>key</th>\n",
              "      <th>mode</th>\n",
              "      <th>duration</th>\n",
              "      <th>avg_timbre1</th>\n",
              "      <th>avg_timbre2</th>\n",
              "      <th>avg_timbre3</th>\n",
              "      <th>avg_timbre4</th>\n",
              "      <th>avg_timbre5</th>\n",
              "      <th>avg_timbre6</th>\n",
              "      <th>avg_timbre7</th>\n",
              "      <th>avg_timbre8</th>\n",
              "      <th>avg_timbre9</th>\n",
              "      <th>avg_timbre10</th>\n",
              "      <th>avg_timbre11</th>\n",
              "      <th>avg_timbre12</th>\n",
              "      <th>var_timbre1</th>\n",
              "      <th>var_timbre2</th>\n",
              "      <th>var_timbre3</th>\n",
              "      <th>var_timbre4</th>\n",
              "      <th>var_timbre5</th>\n",
              "      <th>var_timbre6</th>\n",
              "      <th>var_timbre7</th>\n",
              "      <th>var_timbre8</th>\n",
              "      <th>var_timbre9</th>\n",
              "      <th>var_timbre10</th>\n",
              "      <th>var_timbre11</th>\n",
              "      <th>var_timbre12</th>\n",
              "      <th>song_id</th>\n",
              "      <th>release</th>\n",
              "      <th>year</th>\n",
              "    </tr>\n",
              "  </thead>\n",
              "  <tbody>\n",
              "    <tr>\n",
              "      <th>0</th>\n",
              "      <td>0</td>\n",
              "      <td>Oak Or Rock</td>\n",
              "      <td>[[-515.19211099 -515.19211099 -515.19211099 .....</td>\n",
              "      <td>112</td>\n",
              "      <td>4.200000</td>\n",
              "      <td>dance and electronica</td>\n",
              "      <td>TRQEPJK12903CA34D4</td>\n",
              "      <td>Phonophani</td>\n",
              "      <td>-15.676</td>\n",
              "      <td>44.478</td>\n",
              "      <td>4</td>\n",
              "      <td>3</td>\n",
              "      <td>1</td>\n",
              "      <td>276.97587</td>\n",
              "      <td>35.164371</td>\n",
              "      <td>7.877394</td>\n",
              "      <td>91.085629</td>\n",
              "      <td>4.957848</td>\n",
              "      <td>86.325847</td>\n",
              "      <td>-23.720574</td>\n",
              "      <td>-40.921693</td>\n",
              "      <td>-16.734750</td>\n",
              "      <td>63.578547</td>\n",
              "      <td>4.743140</td>\n",
              "      <td>8.403203</td>\n",
              "      <td>19.991234</td>\n",
              "      <td>64.518580</td>\n",
              "      <td>3967.182797</td>\n",
              "      <td>1702.567833</td>\n",
              "      <td>748.728739</td>\n",
              "      <td>3567.436849</td>\n",
              "      <td>215.329314</td>\n",
              "      <td>1122.442118</td>\n",
              "      <td>436.225105</td>\n",
              "      <td>1192.753362</td>\n",
              "      <td>220.639279</td>\n",
              "      <td>122.167371</td>\n",
              "      <td>1094.862075</td>\n",
              "      <td>SOFOBXX12AB0188075</td>\n",
              "      <td>Oak Or Rock</td>\n",
              "      <td>2004</td>\n",
              "    </tr>\n",
              "    <tr>\n",
              "      <th>1</th>\n",
              "      <td>1</td>\n",
              "      <td>Earth Diver</td>\n",
              "      <td>[[-5.00838465e+02 -5.00838465e+02 -5.00838465e...</td>\n",
              "      <td>8084</td>\n",
              "      <td>4.947644</td>\n",
              "      <td>dance and electronica</td>\n",
              "      <td>TRZLBMY12903CA34AB</td>\n",
              "      <td>Phonophani</td>\n",
              "      <td>-12.505</td>\n",
              "      <td>117.889</td>\n",
              "      <td>3</td>\n",
              "      <td>5</td>\n",
              "      <td>0</td>\n",
              "      <td>331.12771</td>\n",
              "      <td>43.136741</td>\n",
              "      <td>59.012493</td>\n",
              "      <td>31.560114</td>\n",
              "      <td>-4.464695</td>\n",
              "      <td>50.709989</td>\n",
              "      <td>-27.528652</td>\n",
              "      <td>-18.702080</td>\n",
              "      <td>-3.501110</td>\n",
              "      <td>-6.382054</td>\n",
              "      <td>1.834427</td>\n",
              "      <td>3.132496</td>\n",
              "      <td>-15.833680</td>\n",
              "      <td>26.728151</td>\n",
              "      <td>3324.866785</td>\n",
              "      <td>4138.300377</td>\n",
              "      <td>1192.005451</td>\n",
              "      <td>1122.053554</td>\n",
              "      <td>370.830229</td>\n",
              "      <td>786.762878</td>\n",
              "      <td>239.222350</td>\n",
              "      <td>1017.654521</td>\n",
              "      <td>280.937700</td>\n",
              "      <td>185.380257</td>\n",
              "      <td>1039.398354</td>\n",
              "      <td>SOESSHQ12AB0182CA5</td>\n",
              "      <td>Oak Or Rock</td>\n",
              "      <td>2004</td>\n",
              "    </tr>\n",
              "    <tr>\n",
              "      <th>2</th>\n",
              "      <td>2</td>\n",
              "      <td>You Must Welcome The Stranger</td>\n",
              "      <td>[[-528.48484196 -528.48484196 -528.48484196 .....</td>\n",
              "      <td>951</td>\n",
              "      <td>5.000000</td>\n",
              "      <td>dance and electronica</td>\n",
              "      <td>TRIODFQ12903CA34D1</td>\n",
              "      <td>Phonophani</td>\n",
              "      <td>-18.229</td>\n",
              "      <td>165.955</td>\n",
              "      <td>4</td>\n",
              "      <td>4</td>\n",
              "      <td>1</td>\n",
              "      <td>219.66322</td>\n",
              "      <td>33.371880</td>\n",
              "      <td>-120.463588</td>\n",
              "      <td>-8.322311</td>\n",
              "      <td>-31.024994</td>\n",
              "      <td>22.727474</td>\n",
              "      <td>-28.730347</td>\n",
              "      <td>-18.224882</td>\n",
              "      <td>2.497024</td>\n",
              "      <td>-3.592831</td>\n",
              "      <td>-0.987697</td>\n",
              "      <td>2.099203</td>\n",
              "      <td>10.084396</td>\n",
              "      <td>49.554208</td>\n",
              "      <td>5026.299430</td>\n",
              "      <td>761.364944</td>\n",
              "      <td>707.720472</td>\n",
              "      <td>866.148336</td>\n",
              "      <td>254.044431</td>\n",
              "      <td>714.546434</td>\n",
              "      <td>309.265741</td>\n",
              "      <td>605.130573</td>\n",
              "      <td>181.022408</td>\n",
              "      <td>123.812986</td>\n",
              "      <td>368.406464</td>\n",
              "      <td>SOZPQMY12AB018806E</td>\n",
              "      <td>Oak Or Rock</td>\n",
              "      <td>2004</td>\n",
              "    </tr>\n",
              "    <tr>\n",
              "      <th>3</th>\n",
              "      <td>3</td>\n",
              "      <td>The Melancholic Giant</td>\n",
              "      <td>[[-3.51237335e+02 -1.93061550e+02 -1.59656749e...</td>\n",
              "      <td>94</td>\n",
              "      <td>4.428571</td>\n",
              "      <td>dance and electronica</td>\n",
              "      <td>TRDIFGR12903CA34CA</td>\n",
              "      <td>Phonophani</td>\n",
              "      <td>-15.852</td>\n",
              "      <td>92.258</td>\n",
              "      <td>5</td>\n",
              "      <td>0</td>\n",
              "      <td>1</td>\n",
              "      <td>283.48036</td>\n",
              "      <td>37.468627</td>\n",
              "      <td>35.542606</td>\n",
              "      <td>36.094896</td>\n",
              "      <td>-8.299680</td>\n",
              "      <td>35.609290</td>\n",
              "      <td>-22.763634</td>\n",
              "      <td>-15.470687</td>\n",
              "      <td>-4.115242</td>\n",
              "      <td>-1.155200</td>\n",
              "      <td>-0.402422</td>\n",
              "      <td>-0.277028</td>\n",
              "      <td>7.184707</td>\n",
              "      <td>49.120752</td>\n",
              "      <td>8394.337579</td>\n",
              "      <td>2577.108008</td>\n",
              "      <td>883.336343</td>\n",
              "      <td>1410.703439</td>\n",
              "      <td>301.474171</td>\n",
              "      <td>1523.470327</td>\n",
              "      <td>629.441736</td>\n",
              "      <td>600.496882</td>\n",
              "      <td>266.622996</td>\n",
              "      <td>282.135391</td>\n",
              "      <td>573.946013</td>\n",
              "      <td>SOILDKV12AB0182CF9</td>\n",
              "      <td>Oak Or Rock</td>\n",
              "      <td>2004</td>\n",
              "    </tr>\n",
              "    <tr>\n",
              "      <th>4</th>\n",
              "      <td>4</td>\n",
              "      <td>The Boiling Fjords Orchestra</td>\n",
              "      <td>[[-3.79806506e+02 -2.54255144e+02 -2.31626121e...</td>\n",
              "      <td>1816</td>\n",
              "      <td>5.000000</td>\n",
              "      <td>dance and electronica</td>\n",
              "      <td>TRXMTMG12903CA34B6</td>\n",
              "      <td>Phonophani</td>\n",
              "      <td>-13.644</td>\n",
              "      <td>80.858</td>\n",
              "      <td>5</td>\n",
              "      <td>3</td>\n",
              "      <td>1</td>\n",
              "      <td>243.90485</td>\n",
              "      <td>40.933598</td>\n",
              "      <td>51.091944</td>\n",
              "      <td>104.771642</td>\n",
              "      <td>16.360195</td>\n",
              "      <td>45.978334</td>\n",
              "      <td>-28.804994</td>\n",
              "      <td>-1.446388</td>\n",
              "      <td>-0.396586</td>\n",
              "      <td>4.466121</td>\n",
              "      <td>2.274429</td>\n",
              "      <td>4.944127</td>\n",
              "      <td>30.829985</td>\n",
              "      <td>27.334452</td>\n",
              "      <td>1370.864103</td>\n",
              "      <td>1035.682544</td>\n",
              "      <td>989.243888</td>\n",
              "      <td>795.210599</td>\n",
              "      <td>106.194887</td>\n",
              "      <td>686.058702</td>\n",
              "      <td>191.488249</td>\n",
              "      <td>148.468284</td>\n",
              "      <td>66.346029</td>\n",
              "      <td>106.586461</td>\n",
              "      <td>729.074605</td>\n",
              "      <td>SOXEPSI12AB0182CC6</td>\n",
              "      <td>Oak Or Rock</td>\n",
              "      <td>2004</td>\n",
              "    </tr>\n",
              "  </tbody>\n",
              "</table>\n",
              "</div>"
            ],
            "text/plain": [
              "   Unnamed: 0                          title  ...      release  year\n",
              "0           0                    Oak Or Rock  ...  Oak Or Rock  2004\n",
              "1           1                    Earth Diver  ...  Oak Or Rock  2004\n",
              "2           2  You Must Welcome The Stranger  ...  Oak Or Rock  2004\n",
              "3           3          The Melancholic Giant  ...  Oak Or Rock  2004\n",
              "4           4   The Boiling Fjords Orchestra  ...  Oak Or Rock  2004\n",
              "\n",
              "[5 rows x 41 columns]"
            ]
          },
          "metadata": {
            "tags": []
          },
          "execution_count": 4
        }
      ]
    },
    {
      "cell_type": "code",
      "metadata": {
        "id": "roC6jbGJvLu-",
        "outputId": "0e5bed0d-11af-4525-d841-a6641b43273b",
        "colab": {
          "base_uri": "https://localhost:8080/"
        }
      },
      "source": [
        "len(set(df.artist_name))\n",
        "# We have 557 artists for about 7000 songs"
      ],
      "execution_count": null,
      "outputs": [
        {
          "output_type": "execute_result",
          "data": {
            "text/plain": [
              "557"
            ]
          },
          "metadata": {
            "tags": []
          },
          "execution_count": 9
        }
      ]
    },
    {
      "cell_type": "code",
      "metadata": {
        "id": "oPxCZ3TTwfcy",
        "outputId": "bbc92dc0-433e-4361-f8cf-44b41644ed95",
        "colab": {
          "base_uri": "https://localhost:8080/",
          "height": 352
        }
      },
      "source": [
        "sns.heatmap(df.corr())\n",
        "# We can see that the var_timbre values are inter correlated"
      ],
      "execution_count": null,
      "outputs": [
        {
          "output_type": "execute_result",
          "data": {
            "text/plain": [
              "<matplotlib.axes._subplots.AxesSubplot at 0x7f2477ea1e48>"
            ]
          },
          "metadata": {
            "tags": []
          },
          "execution_count": 10
        },
        {
          "output_type": "display_data",
          "data": {
            "image/png": "[encoded data removed]",
            "text/plain": [
              "<Figure size 432x288 with 2 Axes>"
            ]
          },
          "metadata": {
            "tags": [],
            "needs_background": "light"
          }
        }
      ]
    },
    {
      "cell_type": "code",
      "metadata": {
        "id": "ky53WmAAwyKe",
        "outputId": "e16bd0c6-c773-4a6f-ba57-0b235443a9aa",
        "colab": {
          "base_uri": "https://localhost:8080/",
          "height": 352
        }
      },
      "source": [
        "sns.distplot(df.year)"
      ],
      "execution_count": null,
      "outputs": [
        {
          "output_type": "stream",
          "text": [
            "/usr/local/lib/python3.6/dist-packages/seaborn/distributions.py:2551: FutureWarning: `distplot` is a deprecated function and will be removed in a future version. Please adapt your code to use either `displot` (a figure-level function with similar flexibility) or `histplot` (an axes-level function for histograms).\n",
            "  warnings.warn(msg, FutureWarning)\n"
          ],
          "name": "stderr"
        },
        {
          "output_type": "execute_result",
          "data": {
            "text/plain": [
              "<matplotlib.axes._subplots.AxesSubplot at 0x7f2475465a58>"
            ]
          },
          "metadata": {
            "tags": []
          },
          "execution_count": 11
        },
        {
          "output_type": "display_data",
          "data": {
            "image/png": "[encoded data removed]",
            "text/plain": [
              "<Figure size 432x288 with 1 Axes>"
            ]
          },
          "metadata": {
            "tags": [],
            "needs_background": "light"
          }
        }
      ]
    },
    {
      "cell_type": "code",
      "metadata": {
        "id": "IxfNytewyALj",
        "outputId": "e3e8cd72-f506-44ab-816b-58ff500ba1f7",
        "colab": {
          "base_uri": "https://localhost:8080/"
        }
      },
      "source": [
        "# We can see that our songs mostly lie in between the years 1990-2010\n",
        "df[df.year<=1990].shape"
      ],
      "execution_count": null,
      "outputs": [
        {
          "output_type": "execute_result",
          "data": {
            "text/plain": [
              "(1064, 41)"
            ]
          },
          "metadata": {
            "tags": []
          },
          "execution_count": 12
        }
      ]
    },
    {
      "cell_type": "code",
      "metadata": {
        "id": "AOV5HyjOyVS0",
        "outputId": "3ea72dc2-2c69-4cbb-d61f-9ed8fb6b5f8d",
        "colab": {
          "base_uri": "https://localhost:8080/"
        }
      },
      "source": [
        "# Out of 7400 songs, we have only 1000 songs which were released before 1990.\n",
        "1064/df.shape[0]*100"
      ],
      "execution_count": null,
      "outputs": [
        {
          "output_type": "execute_result",
          "data": {
            "text/plain": [
              "14.386154678204436"
            ]
          },
          "metadata": {
            "tags": []
          },
          "execution_count": 14
        }
      ]
    },
    {
      "cell_type": "code",
      "metadata": {
        "id": "OYpKFYy9yiZd",
        "outputId": "0f2e3394-18f4-4c1e-ce11-8a2a91841155",
        "colab": {
          "base_uri": "https://localhost:8080/"
        }
      },
      "source": [
        "set(df.genre)\n",
        "# We have 6 genres in total."
      ],
      "execution_count": null,
      "outputs": [
        {
          "output_type": "execute_result",
          "data": {
            "text/plain": [
              "{'classical',\n",
              " 'dance and electronica',\n",
              " 'hip-hop',\n",
              " 'jazz and blues',\n",
              " 'metal',\n",
              " 'soul and reggae'}"
            ]
          },
          "metadata": {
            "tags": []
          },
          "execution_count": 15
        }
      ]
    },
    {
      "cell_type": "code",
      "metadata": {
        "id": "CYL5092r0XRj",
        "outputId": "689aa2e2-2420-456c-90cc-3a0b5a2c80a6",
        "colab": {
          "base_uri": "https://localhost:8080/"
        }
      },
      "source": [
        "# There was a row in which the views cell had the name '1 view' rather than 1, So converted that string into integer. (i.e., Object dtype into int)\n",
        "df.views[4626]=1"
      ],
      "execution_count": null,
      "outputs": [
        {
          "output_type": "stream",
          "text": [
            "/usr/local/lib/python3.6/dist-packages/ipykernel_launcher.py:1: SettingWithCopyWarning: \n",
            "A value is trying to be set on a copy of a slice from a DataFrame\n",
            "\n",
            "See the caveats in the documentation: https://pandas.pydata.org/pandas-docs/stable/user_guide/indexing.html#returning-a-view-versus-a-copy\n",
            "  \"\"\"Entry point for launching an IPython kernel.\n"
          ],
          "name": "stderr"
        }
      ]
    },
    {
      "cell_type": "code",
      "metadata": {
        "id": "i8-d0sYbyv7v"
      },
      "source": [
        "views=[]\n",
        "#x=0\n",
        "for i in df.views:\n",
        "  #print(int(i),x)\n",
        "  #x+=1\n",
        "  views.append(int(i))"
      ],
      "execution_count": null,
      "outputs": []
    },
    {
      "cell_type": "code",
      "metadata": {
        "id": "FSL6UYDI02qV"
      },
      "source": [
        "import numpy as np\n",
        "views=np.array(views)"
      ],
      "execution_count": null,
      "outputs": []
    },
    {
      "cell_type": "code",
      "metadata": {
        "id": "KxCyZJhK1S1Z",
        "outputId": "2b8f3d7c-7979-4b2d-94be-254d54969ae7",
        "colab": {
          "base_uri": "https://localhost:8080/"
        }
      },
      "source": [
        "np.min(views),np.max(views),np.mean(views),np.median(views)\n",
        "# The minimum number of views and maximum number of views. We can see that the difference between the mean and median is very high and hence there are outliers in the views column."
      ],
      "execution_count": null,
      "outputs": [
        {
          "output_type": "execute_result",
          "data": {
            "text/plain": [
              "(1, 216851959, 783399.7398593834, 11927.0)"
            ]
          },
          "metadata": {
            "tags": []
          },
          "execution_count": 42
        }
      ]
    },
    {
      "cell_type": "code",
      "metadata": {
        "id": "iTmvpyfP1bxj"
      },
      "source": [
        "# There are outliers in the data"
      ],
      "execution_count": null,
      "outputs": []
    },
    {
      "cell_type": "code",
      "metadata": {
        "id": "BJEIvgll12F7",
        "outputId": "09d8887b-2d37-436d-91ec-cc5a1b9180e7",
        "colab": {
          "base_uri": "https://localhost:8080/"
        }
      },
      "source": [
        "min(df.rating),max(df.rating)\n",
        "# The range of rating is between 0 and 5"
      ],
      "execution_count": null,
      "outputs": [
        {
          "output_type": "execute_result",
          "data": {
            "text/plain": [
              "(0.0, 5.0)"
            ]
          },
          "metadata": {
            "tags": []
          },
          "execution_count": 45
        }
      ]
    },
    {
      "cell_type": "code",
      "metadata": {
        "id": "xWjpPdsk18Oo"
      },
      "source": [
        ""
      ],
      "execution_count": null,
      "outputs": []
    }
  ]
}